{
 "cells": [
  {
   "cell_type": "markdown",
   "id": "e3af01f0-eb01-4668-ba00-755922f5413a",
   "metadata": {},
   "source": [
    "## Hands-on - Basic Statistics in Python"
   ]
  },
  {
   "cell_type": "markdown",
   "id": "6e1b9654",
   "metadata": {},
   "source": [
    "Name: Kamonnun Silarat <br>\n",
    "Date: 19.03.2025"
   ]
  },
  {
   "cell_type": "code",
   "execution_count": 1,
   "id": "a56353bd",
   "metadata": {},
   "outputs": [
    {
     "name": "stdout",
     "output_type": "stream",
     "text": [
      "Dataset Preview:\n",
      "   id    age  sex  height  weight  ap_hi  ap_lo  cholesterol  gluc  smoke  \\\n",
      "0   0  18393    2     168    62.0    110     80            1     1      0   \n",
      "1   1  20228    1     156    85.0    140     90            3     1      0   \n",
      "2   2  18857    1     165    64.0    130     70            3     1      0   \n",
      "3   3  17623    2     169    82.0    150    100            1     1      0   \n",
      "4   4  17474    1     156    56.0    100     60            1     1      0   \n",
      "\n",
      "   alco  active  cardio  \n",
      "0     0       1       0  \n",
      "1     0       1       1  \n",
      "2     0       0       1  \n",
      "3     0       1       1  \n",
      "4     0       0       0  \n"
     ]
    }
   ],
   "source": [
    "# Import necessary libraries\n",
    "import pandas as pd  # for handling tabular datasets\n",
    "import numpy as np  # for numerical computations\n",
    "from scipy import stats  # for statistical operations\n",
    "import matplotlib.pyplot as plt  # for plotting\n",
    "import seaborn as sns  # for advanced statistical plots\n",
    "\n",
    "# Load dataset from GitHub URL\n",
    "file_path = \"https://raw.githubusercontent.com/Hamed-Ahmadinia/DASP-2025/refs/heads/main/medical_examination.csv\"  # URL link to the dataset stored on GitHub\n",
    "\n",
    "# Read the dataset into a pandas dataframe\n",
    "df = pd.read_csv(file_path)  # Load the dataset as a pandas DataFrame\n",
    "\n",
    "# Display the first few rows of the dataframe to confirm the data has been loaded correctly\n",
    "print(\"Dataset Preview:\")  # Print a label for context\n",
    "print(df.head(5))  # Display the first 5 rows of the dataset"
   ]
  },
  {
   "cell_type": "markdown",
   "id": "878fcaa5-7ebc-401a-99ae-c16c1c24bb9f",
   "metadata": {},
   "source": [
    "### **Exercise 1: Display Dataset Information**\n",
    "**Question:** Use df.info() to display basic information about the dataset."
   ]
  },
  {
   "cell_type": "code",
   "execution_count": 2,
   "id": "ce2da9e1-00e5-477a-ab10-0afdc58ff97a",
   "metadata": {},
   "outputs": [
    {
     "name": "stdout",
     "output_type": "stream",
     "text": [
      "Dataset basic information:\n",
      "<class 'pandas.core.frame.DataFrame'>\n",
      "RangeIndex: 70000 entries, 0 to 69999\n",
      "Data columns (total 13 columns):\n",
      " #   Column       Non-Null Count  Dtype  \n",
      "---  ------       --------------  -----  \n",
      " 0   id           70000 non-null  int64  \n",
      " 1   age          70000 non-null  int64  \n",
      " 2   sex          70000 non-null  int64  \n",
      " 3   height       70000 non-null  int64  \n",
      " 4   weight       70000 non-null  float64\n",
      " 5   ap_hi        70000 non-null  int64  \n",
      " 6   ap_lo        70000 non-null  int64  \n",
      " 7   cholesterol  70000 non-null  int64  \n",
      " 8   gluc         70000 non-null  int64  \n",
      " 9   smoke        70000 non-null  int64  \n",
      " 10  alco         70000 non-null  int64  \n",
      " 11  active       70000 non-null  int64  \n",
      " 12  cardio       70000 non-null  int64  \n",
      "dtypes: float64(1), int64(12)\n",
      "memory usage: 6.9 MB\n"
     ]
    }
   ],
   "source": [
    "# Your code here:\n",
    "print(\"Dataset basic information:\")\n",
    "df.info()"
   ]
  },
  {
   "cell_type": "markdown",
   "id": "7186c00d-4ac0-4853-8977-728f17e0ab64",
   "metadata": {},
   "source": [
    "### **Exercise 2: Calculate Minimum and Maximum Values**  \n",
    "**Question:** Calculate the **minimum** and **maximum** values for the following columns:  \n",
    "\n",
    "- **\"height\"**  \n",
    "- **\"weight\"**  \n",
    "- **\"ap_hi\"** (systolic blood pressure)  \n",
    "- **\"ap_lo\"** (diasblood pressure)  \n"
   ]
  },
  {
   "cell_type": "code",
   "execution_count": 3,
   "id": "40ffded5-78e1-43f9-b0ab-979662f0e3b1",
   "metadata": {},
   "outputs": [
    {
     "name": "stdout",
     "output_type": "stream",
     "text": [
      "Minimum height: 55\n",
      "Maximum height: 250\n",
      "Minimum weight: 10.0\n",
      "Maximum weight: 200.0\n",
      "Minimum systolic blood pressure: -150\n",
      "Maximum systolic blood pressure: 16020\n",
      "Minimum diasblood pressure: -70\n",
      "Maximum diasblood pressure: 11000\n"
     ]
    }
   ],
   "source": [
    "# Your code here:\n",
    "height_values = df[\"height\"].dropna().values\n",
    "weight_values = df[\"weight\"].dropna().values\n",
    "ap_hi_values = df[\"ap_hi\"].dropna().values\n",
    "ap_lo_values = df[\"ap_lo\"].dropna().values\n",
    "\n",
    "# Calculate and display each minimum and maximum values\n",
    "# Height\n",
    "print(\"Minimum height:\", np.min(height_values))\n",
    "print(\"Maximum height:\", np.max(height_values))\n",
    "# Weight\n",
    "print(\"Minimum weight:\", np.min(weight_values))\n",
    "print(\"Maximum weight:\", np.max(weight_values))\n",
    "# Systolic blood pressure (ap_hi)\n",
    "print(\"Minimum systolic blood pressure:\", np.min(ap_hi_values))\n",
    "print(\"Maximum systolic blood pressure:\", np.max(ap_hi_values))\n",
    "# Diasblood pressure (ap_lo)\n",
    "print(\"Minimum diasblood pressure:\", np.min(ap_lo_values))\n",
    "print(\"Maximum diasblood pressure:\", np.max(ap_lo_values))"
   ]
  },
  {
   "cell_type": "markdown",
   "id": "abb7e8b6-88f3-4c20-a706-1866b901f936",
   "metadata": {},
   "source": [
    "### **Exercise 3: Compute Measures of Central Tendency**  \n",
    "**Question:** Calculate the **mean**, **median**, and **mode** for the specified columns:  \n",
    "\n",
    "- **Mean:** Compute the mean of the **\"weight\"** column.  \n",
    "- **Median:** Compute the median of the **\"ap_hi\"** (systolic blood pressure) column.  \n",
    "- **Mode:** Compute the mode of the **\"gender\"** column.  "
   ]
  },
  {
   "cell_type": "code",
   "execution_count": 4,
   "id": "9efb62c3",
   "metadata": {},
   "outputs": [
    {
     "name": "stdout",
     "output_type": "stream",
     "text": [
      "Available columns: Index(['id', 'age', 'sex', 'height', 'weight', 'ap_hi', 'ap_lo', 'cholesterol',\n",
      "       'gluc', 'smoke', 'alco', 'active', 'cardio'],\n",
      "      dtype='object')\n"
     ]
    }
   ],
   "source": [
    "# Additional cell\n",
    "print(\"Available columns:\", df.columns)"
   ]
  },
  {
   "cell_type": "code",
   "execution_count": 5,
   "id": "f2530035-c7dc-49e8-b34a-6eb82408850c",
   "metadata": {},
   "outputs": [
    {
     "name": "stdout",
     "output_type": "stream",
     "text": [
      "Mean weight: 74.21 kg\n",
      "Median of systolic blood pressure: 83.33333333333334\n",
      "Most frequent sex value: 1, Count: 45522 \n"
     ]
    }
   ],
   "source": [
    "# Your code here:\n",
    "\n",
    "# Additioal note: since the data columns doesn't have 'gender', I decided to use 'sex' for mode calculation instead.\n",
    "mean_weight = df[\"weight\"].mean()\n",
    "median_ap_hi = np.median(df[\"ap_hi\"] / ((df[\"ap_hi\"] / 100) ** 2))\n",
    "mode_sex = stats.mode(df[\"sex\"], keepdims=True)\n",
    "\n",
    "print(f\"Mean weight: {mean_weight:.2f} kg\")\n",
    "print(f\"Median of systolic blood pressure: {median_ap_hi}\")\n",
    "print(f\"Most frequent sex value: {mode_sex.mode[0]}, Count: {mode_sex.count[0]} \")"
   ]
  },
  {
   "cell_type": "markdown",
   "id": "3542b40f-45c0-4b19-a00b-6832bb1f8933",
   "metadata": {},
   "source": [
    "### **Exercise 4: Compute Quantiles and Interquartile Range (IQR)**  \n",
    "**Question:** Compute the **Q1**, **Q2 (median)**, and **Q3** for the **\"cholesterol\"** column and calculate the **Interquartile Range (IQR)**. \n"
   ]
  },
  {
   "cell_type": "code",
   "execution_count": 6,
   "id": "e71a544c-dafa-4277-93fc-55877a245927",
   "metadata": {
    "scrolled": true
   },
   "outputs": [
    {
     "name": "stdout",
     "output_type": "stream",
     "text": [
      "Q1 or 25 percentile: 1.00\n",
      "Q2 or 50 percentile (median): 1.00\n",
      "Q3 or 75 percentile: 2.00\n",
      "Interquartile range or IQR: 1.00\n"
     ]
    },
    {
     "data": {
      "image/png": "[encoded data removed]",
      "text/plain": [
       "<Figure size 800x500 with 1 Axes>"
      ]
     },
     "metadata": {},
     "output_type": "display_data"
    }
   ],
   "source": [
    "# Your code here:\n",
    "# Calculating using Pandas\n",
    "q1_cholesterol = df[\"cholesterol\"].quantile(0.25)\n",
    "q2_cholesterol = df[\"cholesterol\"].quantile(0.50)\n",
    "q3_cholesterol = df[\"cholesterol\"].quantile(0.75)\n",
    "iqr_cholesterol = q3_cholesterol - q1_cholesterol\n",
    "\n",
    "print(f\"Q1 or 25 percentile: {q1_cholesterol:.2f}\")\n",
    "print(f\"Q2 or 50 percentile (median): {q2_cholesterol:.2f}\")     \n",
    "print(f\"Q3 or 75 percentile: {q3_cholesterol:.2f}\")    \n",
    "print(f\"Interquartile range or IQR: {iqr_cholesterol:.2f}\")\n",
    "\n",
    "# Plot a boxplot for diagram diaplay:\n",
    "plt.figure(figsize=(8, 5))\n",
    "sns.boxplot(x=df[\"cholesterol\"], color=\"skyblue\", width=0.5, linewidth=2)\n",
    "plt.title(\"Boxplot of the Cholesterol levels\")\n",
    "plt.xlabel(\"Cholesterol level\")\n",
    "plt.grid(axis='x', linestyle=\"--\", alpha=0.7)\n",
    "plt.show()"
   ]
  },
  {
   "cell_type": "markdown",
   "id": "6fc3984d-5b71-4117-8ab8-f9bc81434f13",
   "metadata": {},
   "source": [
    "### **Exercise 5: Grouped Analysis by Gender**  \n",
    "**Question:** Calculate the **mean** of the **\"weight\"** column grouped by **\"gender\"**. \n"
   ]
  },
  {
   "cell_type": "code",
   "execution_count": 7,
   "id": "a45846a0-4136-4985-a2e1-f9706ee40ce6",
   "metadata": {
    "scrolled": true
   },
   "outputs": [
    {
     "name": "stdout",
     "output_type": "stream",
     "text": [
      "Mean of weight grouped by sex: sex\n",
      "1    72.565902\n",
      "2    77.258565\n",
      "3    69.818182\n",
      "Name: weight, dtype: float64\n"
     ]
    }
   ],
   "source": [
    "# Your code here:\n",
    "mean_weight_group_sex = df.groupby(\"sex\")[\"weight\"].mean()\n",
    "print(\"Mean of weight grouped by sex:\", mean_weight_group_sex)"
   ]
  },
  {
   "cell_type": "code",
   "execution_count": null,
   "id": "965dc9bb-30e5-4df7-a4b9-3b11593aec83",
   "metadata": {},
   "outputs": [],
   "source": []
  }
 ],
 "metadata": {
  "kernelspec": {
   "display_name": "Python 3 (ipykernel)",
   "language": "python",
   "name": "python3"
  },
  "language_info": {
   "codemirror_mode": {
    "name": "ipython",
    "version": 3
   },
   "file_extension": ".py",
   "mimetype": "text/x-python",
   "name": "python",
   "nbconvert_exporter": "python",
   "pygments_lexer": "ipython3",
   "version": "3.11.5"
  }
 },
 "nbformat": 4,
 "nbformat_minor": 5
}
